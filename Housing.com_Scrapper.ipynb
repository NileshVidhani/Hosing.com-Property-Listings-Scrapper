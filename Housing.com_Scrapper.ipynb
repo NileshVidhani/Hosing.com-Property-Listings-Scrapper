{
 "cells": [
  {
   "cell_type": "code",
   "execution_count": 1,
   "id": "170cc28b-b6b1-48fd-a2c2-e95ed6d3a2af",
   "metadata": {},
   "outputs": [
    {
     "name": "stdout",
     "output_type": "stream",
     "text": [
      "Requirement already satisfied: selenium in c:\\users\\nilesh vidhani\\anaconda3\\lib\\site-packages (4.33.0)\n",
      "Requirement already satisfied: beautifulsoup4 in c:\\users\\nilesh vidhani\\appdata\\roaming\\python\\python312\\site-packages (4.12.3)\n",
      "Requirement already satisfied: pandas in c:\\users\\nilesh vidhani\\appdata\\roaming\\python\\python312\\site-packages (2.2.2)\n",
      "Requirement already satisfied: urllib3~=2.4.0 in c:\\users\\nilesh vidhani\\anaconda3\\lib\\site-packages (from urllib3[socks]~=2.4.0->selenium) (2.4.0)\n",
      "Requirement already satisfied: trio~=0.30.0 in c:\\users\\nilesh vidhani\\anaconda3\\lib\\site-packages (from selenium) (0.30.0)\n",
      "Requirement already satisfied: trio-websocket~=0.12.2 in c:\\users\\nilesh vidhani\\anaconda3\\lib\\site-packages (from selenium) (0.12.2)\n",
      "Requirement already satisfied: certifi>=2025.4.26 in c:\\users\\nilesh vidhani\\anaconda3\\lib\\site-packages (from selenium) (2025.6.15)\n",
      "Requirement already satisfied: typing_extensions~=4.13.2 in c:\\users\\nilesh vidhani\\anaconda3\\lib\\site-packages (from selenium) (4.13.2)\n",
      "Requirement already satisfied: websocket-client~=1.8.0 in c:\\users\\nilesh vidhani\\anaconda3\\lib\\site-packages (from selenium) (1.8.0)\n",
      "Requirement already satisfied: attrs>=23.2.0 in c:\\users\\nilesh vidhani\\appdata\\roaming\\python\\python312\\site-packages (from trio~=0.30.0->selenium) (23.2.0)\n",
      "Requirement already satisfied: sortedcontainers in c:\\users\\nilesh vidhani\\anaconda3\\lib\\site-packages (from trio~=0.30.0->selenium) (2.4.0)\n",
      "Requirement already satisfied: idna in c:\\users\\nilesh vidhani\\appdata\\roaming\\python\\python312\\site-packages (from trio~=0.30.0->selenium) (3.7)\n",
      "Requirement already satisfied: outcome in c:\\users\\nilesh vidhani\\anaconda3\\lib\\site-packages (from trio~=0.30.0->selenium) (1.3.0.post0)\n",
      "Requirement already satisfied: sniffio>=1.3.0 in c:\\users\\nilesh vidhani\\anaconda3\\lib\\site-packages (from trio~=0.30.0->selenium) (1.3.0)\n",
      "Requirement already satisfied: cffi>=1.14 in c:\\users\\nilesh vidhani\\anaconda3\\lib\\site-packages (from trio~=0.30.0->selenium) (1.16.0)\n",
      "Requirement already satisfied: wsproto>=0.14 in c:\\users\\nilesh vidhani\\anaconda3\\lib\\site-packages (from trio-websocket~=0.12.2->selenium) (1.2.0)\n",
      "Requirement already satisfied: pysocks!=1.5.7,<2.0,>=1.5.6 in c:\\users\\nilesh vidhani\\anaconda3\\lib\\site-packages (from urllib3[socks]~=2.4.0->selenium) (1.7.1)\n",
      "Requirement already satisfied: soupsieve>1.2 in c:\\users\\nilesh vidhani\\appdata\\roaming\\python\\python312\\site-packages (from beautifulsoup4) (2.5)\n",
      "Requirement already satisfied: numpy>=1.26.0 in c:\\users\\nilesh vidhani\\anaconda3\\lib\\site-packages (from pandas) (2.3.1)\n",
      "Requirement already satisfied: python-dateutil>=2.8.2 in c:\\users\\nilesh vidhani\\appdata\\roaming\\python\\python312\\site-packages (from pandas) (2.9.0.post0)\n",
      "Requirement already satisfied: pytz>=2020.1 in c:\\users\\nilesh vidhani\\appdata\\roaming\\python\\python312\\site-packages (from pandas) (2024.1)\n",
      "Requirement already satisfied: tzdata>=2022.7 in c:\\users\\nilesh vidhani\\appdata\\roaming\\python\\python312\\site-packages (from pandas) (2024.1)\n",
      "Requirement already satisfied: pycparser in c:\\users\\nilesh vidhani\\anaconda3\\lib\\site-packages (from cffi>=1.14->trio~=0.30.0->selenium) (2.21)\n",
      "Requirement already satisfied: six>=1.5 in c:\\users\\nilesh vidhani\\appdata\\roaming\\python\\python312\\site-packages (from python-dateutil>=2.8.2->pandas) (1.16.0)\n",
      "Requirement already satisfied: h11<1,>=0.9.0 in c:\\users\\nilesh vidhani\\anaconda3\\lib\\site-packages (from wsproto>=0.14->trio-websocket~=0.12.2->selenium) (0.14.0)\n"
     ]
    }
   ],
   "source": [
    "#  Installing the required libraries\n",
    "!pip install selenium beautifulsoup4 pandas\n"
   ]
  },
  {
   "cell_type": "code",
   "execution_count": 19,
   "id": "bf3f9c43-1b49-4f0b-a2fa-23c7f3e27d5a",
   "metadata": {},
   "outputs": [
    {
     "name": "stdin",
     "output_type": "stream",
     "text": [
      "Enter city name (e.g., mumbai, delhi, pune, bangalore):  pune\n"
     ]
    },
    {
     "name": "stdout",
     "output_type": "stream",
     "text": [
      "\n",
      "🔍 Scraping properties for: Pune\n",
      "🏘️ Found 30 property cards\n",
      "\n",
      "✅ Scraping completed.\n",
      "📄 Data saved to: housing_pune.csv\n"
     ]
    }
   ],
   "source": [
    "#Importing the required libraries\n",
    "from selenium import webdriver\n",
    "from selenium.webdriver.chrome.service import Service\n",
    "from selenium.webdriver.chrome.options import Options\n",
    "from selenium.webdriver.common.by import By\n",
    "from selenium.webdriver.support.ui import WebDriverWait\n",
    "from selenium.webdriver.support import expected_conditions as EC\n",
    "import pandas as pd\n",
    "import time\n",
    "\n",
    "# === Initial Setup Code ===\n",
    "city = input(\"Enter city name (e.g., mumbai, delhi, pune, bangalore): \").strip().lower()\n",
    "url = f\"https://housing.com/in/buy/{city}\"\n",
    "\n",
    "print(f\"\\n🔍 Scraping properties for: {city.title()}\")\n",
    "\n",
    "# Setting up the  chromedriver path\n",
    "CHROMEDRIVER_PATH = r\"C:\\Users\\NILESH VIDHANI\\chromedriver-win64\\chromedriver.exe\"\n",
    "\n",
    "options = Options()\n",
    "options.add_argument(\"--start-maximized\")\n",
    "\n",
    "service = Service(CHROMEDRIVER_PATH)\n",
    "driver = webdriver.Chrome(service=service, options=options)\n",
    "\n",
    "# === Loading the Page ===\n",
    "driver.get(url)\n",
    "\n",
    "try:\n",
    "    # Wait for card containers\n",
    "    WebDriverWait(driver, 20).until(\n",
    "        EC.presence_of_all_elements_located((By.XPATH, \"//article[@data-testid='card-container']\"))\n",
    "    )\n",
    "    time.sleep(2)\n",
    "\n",
    "    cards = driver.find_elements(By.XPATH, \"//article[@data-testid='card-container']\")\n",
    "    print(f\"🏘 Found {len(cards)} property cards\")\n",
    "\n",
    "    data = []\n",
    "\n",
    "    for card in cards:\n",
    "        # 🔹 Title\n",
    "        try:\n",
    "            title = card.find_element(By.XPATH, \".//h2\").text.strip()\n",
    "        except:\n",
    "            title = \"N/A\"\n",
    "\n",
    "        # 🔹 Price\n",
    "        try:\n",
    "            price = card.find_element(By.XPATH, \".//div[contains(text(), '₹')]\").text.strip()\n",
    "        except:\n",
    "            price = \"N/A\"\n",
    "\n",
    "        # 🔹 Link\n",
    "        try:\n",
    "            link = card.find_element(By.TAG_NAME, \"a\").get_attribute(\"href\")\n",
    "        except:\n",
    "            link = \"N/A\"\n",
    "\n",
    "        # 🔹 Location (from subtitle-style class)\n",
    "        try:\n",
    "            subtitle = card.find_element(By.CLASS_NAME, \"subtitle-style\").text.strip()\n",
    "            if \" in \" in subtitle:\n",
    "                location = subtitle.split(\" in \")[-1]\n",
    "            else:\n",
    "                location = \"N/A\"\n",
    "        except:\n",
    "            location = \"N/A\"\n",
    "\n",
    "        data.append({\n",
    "            \"Title\": title,\n",
    "            \"Price\": price,\n",
    "            \"Location\": location,\n",
    "            \"Link\": link\n",
    "        })\n",
    "\n",
    "    # === Step 3: Save ===\n",
    "    driver.quit()\n",
    "    df = pd.DataFrame(data)\n",
    "    filename = f\"housing_{city}.csv\"\n",
    "    df.to_csv(filename, index=False, encoding='utf-8-sig')\n",
    "\n",
    "    print(f\"\\n Scraping completed.\\n Data saved to: {filename}\")\n",
    "\n",
    "except Exception as e:\n",
    "    print(\" Error during scraping:\", str(e))\n",
    "    driver.quit()\n"
   ]
  },
  {
   "cell_type": "code",
   "execution_count": null,
   "id": "7485b901-d75a-4663-917e-6d3142fc98c3",
   "metadata": {},
   "outputs": [],
   "source": []
  }
 ],
 "metadata": {
  "kernelspec": {
   "display_name": "Python 3 (ipykernel)",
   "language": "python",
   "name": "python3"
  },
  "language_info": {
   "codemirror_mode": {
    "name": "ipython",
    "version": 3
   },
   "file_extension": ".py",
   "mimetype": "text/x-python",
   "name": "python",
   "nbconvert_exporter": "python",
   "pygments_lexer": "ipython3",
   "version": "3.12.4"
  }
 },
 "nbformat": 4,
 "nbformat_minor": 5
}
