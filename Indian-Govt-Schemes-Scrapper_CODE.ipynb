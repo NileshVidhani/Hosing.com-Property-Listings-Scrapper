{
 "cells": [
  {
   "cell_type": "code",
   "execution_count": 20,
   "id": "22fbf63b-9915-4201-8e16-843767d46a7d",
   "metadata": {},
   "outputs": [
    {
     "name": "stdout",
     "output_type": "stream",
     "text": [
      "Requirement already satisfied: requests in c:\\users\\nilesh vidhani\\appdata\\roaming\\python\\python312\\site-packages (2.32.3)\n",
      "Requirement already satisfied: beautifulsoup4 in c:\\users\\nilesh vidhani\\appdata\\roaming\\python\\python312\\site-packages (4.12.3)\n",
      "Requirement already satisfied: pandas in c:\\users\\nilesh vidhani\\appdata\\roaming\\python\\python312\\site-packages (2.2.2)\n",
      "Requirement already satisfied: charset-normalizer<4,>=2 in c:\\users\\nilesh vidhani\\appdata\\roaming\\python\\python312\\site-packages (from requests) (3.3.2)\n",
      "Requirement already satisfied: idna<4,>=2.5 in c:\\users\\nilesh vidhani\\appdata\\roaming\\python\\python312\\site-packages (from requests) (3.7)\n",
      "Requirement already satisfied: urllib3<3,>=1.21.1 in c:\\users\\nilesh vidhani\\anaconda3\\lib\\site-packages (from requests) (2.4.0)\n",
      "Requirement already satisfied: certifi>=2017.4.17 in c:\\users\\nilesh vidhani\\anaconda3\\lib\\site-packages (from requests) (2025.6.15)\n",
      "Requirement already satisfied: soupsieve>1.2 in c:\\users\\nilesh vidhani\\appdata\\roaming\\python\\python312\\site-packages (from beautifulsoup4) (2.5)\n",
      "Requirement already satisfied: numpy>=1.26.0 in c:\\users\\nilesh vidhani\\appdata\\roaming\\python\\python312\\site-packages (from pandas) (2.0.0)\n",
      "Requirement already satisfied: python-dateutil>=2.8.2 in c:\\users\\nilesh vidhani\\appdata\\roaming\\python\\python312\\site-packages (from pandas) (2.9.0.post0)\n",
      "Requirement already satisfied: pytz>=2020.1 in c:\\users\\nilesh vidhani\\appdata\\roaming\\python\\python312\\site-packages (from pandas) (2024.1)\n",
      "Requirement already satisfied: tzdata>=2022.7 in c:\\users\\nilesh vidhani\\appdata\\roaming\\python\\python312\\site-packages (from pandas) (2024.1)\n",
      "Requirement already satisfied: six>=1.5 in c:\\users\\nilesh vidhani\\appdata\\roaming\\python\\python312\\site-packages (from python-dateutil>=2.8.2->pandas) (1.16.0)\n",
      "Note: you may need to restart the kernel to use updated packages.\n"
     ]
    },
    {
     "name": "stderr",
     "output_type": "stream",
     "text": [
      "\n",
      "[notice] A new release of pip is available: 24.1 -> 25.1.1\n",
      "[notice] To update, run: python.exe -m pip install --upgrade pip\n"
     ]
    }
   ],
   "source": [
    "pip install requests beautifulsoup4 pandas"
   ]
  },
  {
   "cell_type": "code",
   "execution_count": 3,
   "id": "a9d398ba-3a0a-4f4d-904b-ce713bc5ac19",
   "metadata": {},
   "outputs": [],
   "source": [
    "import requests\n",
    "from bs4 import BeautifulSoup\n",
    "import pandas as pd\n"
   ]
  },
  {
   "cell_type": "code",
   "execution_count": 7,
   "id": "4c8fc22a-2ff8-4890-a4f2-2551176f882a",
   "metadata": {},
   "outputs": [
    {
     "name": "stdout",
     "output_type": "stream",
     "text": [
      "Total schemes found : 10\n",
      "Data Sved to general_schemes.csv in the Documents\n"
     ]
    }
   ],
   "source": [
    "url = 'https://www.india.gov.in/spotlight/benefits-government-schemes'\n",
    "\n",
    "response = requests.get(url)\n",
    "soup = BeautifulSoup(response.text, 'html.parser')\n",
    "\n",
    "schemes = soup.find_all('div', class_='views-row')\n",
    "print(f\"Total schemes found : {len(schemes)}\")\n",
    "\n",
    "data = []\n",
    "for scheme in schemes:\n",
    "    title_div = scheme.find('div', class_='views-field-title')\n",
    "\n",
    "    if title_div:\n",
    "        link_tag = title_div.find('a')\n",
    "\n",
    "        if link_tag:\n",
    "            scheme_name = link_tag.text.strip()\n",
    "            scheme_link = link_tag['href']\n",
    "\n",
    "            if not scheme_link.startswith('http'):\n",
    "                scheme_link = 'https://www.india.gov.in' + scheme_link\n",
    "\n",
    "        data.append([scheme_name, scheme_link, 'General'])\n",
    "        \n",
    "df_general = pd.DataFrame(data, columns=['Scheme Name','Scheme Link', 'Department'])\n",
    "df_general.head(15)\n",
    "\n",
    "df_general.to_csv(r'C:\\Users\\NILESH VIDHANI\\Documents\\general_schemes.csv', index=False)\n",
    "print(\"Data Saved to general_schemes.csv in the Documents\")"
   ]
  },
  {
   "cell_type": "code",
   "execution_count": null,
   "id": "dfcd5219-3caf-44c2-bb47-d7776972d9ea",
   "metadata": {},
   "outputs": [],
   "source": []
  }
 ],
 "metadata": {
  "kernelspec": {
   "display_name": "Python 3 (ipykernel)",
   "language": "python",
   "name": "python3"
  },
  "language_info": {
   "codemirror_mode": {
    "name": "ipython",
    "version": 3
   },
   "file_extension": ".py",
   "mimetype": "text/x-python",
   "name": "python",
   "nbconvert_exporter": "python",
   "pygments_lexer": "ipython3",
   "version": "3.12.4"
  }
 },
 "nbformat": 4,
 "nbformat_minor": 5
}
